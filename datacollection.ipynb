{
 "cells": [
  {
   "cell_type": "code",
   "execution_count": 2,
   "metadata": {},
   "outputs": [
    {
     "name": "stdout",
     "output_type": "stream",
     "text": [
      "Exporting image tile: ./0_0.png\n",
      "Exporting image tile: ./0_1.png\n",
      "Exporting image tile: ./0_2.png\n",
      "Exporting image tile: ./0_3.png\n",
      "Exporting image tile: ./0_4.png\n",
      "Exporting image tile: ./0_5.png\n",
      "Exporting image tile: ./0_6.png\n",
      "Exporting image tile: ./0_7.png\n",
      "Exporting image tile: ./1_0.png\n",
      "Exporting image tile: ./1_1.png\n",
      "Exporting image tile: ./1_2.png\n",
      "Exporting image tile: ./1_3.png\n",
      "Exporting image tile: ./1_4.png\n",
      "Exporting image tile: ./1_5.png\n",
      "Exporting image tile: ./1_6.png\n",
      "Exporting image tile: ./1_7.png\n",
      "Exporting image tile: ./2_0.png\n",
      "Exporting image tile: ./2_1.png\n",
      "Exporting image tile: ./2_2.png\n",
      "Exporting image tile: ./2_3.png\n",
      "Exporting image tile: ./2_4.png\n",
      "Exporting image tile: ./2_5.png\n",
      "Exporting image tile: ./2_6.png\n",
      "Exporting image tile: ./2_7.png\n"
     ]
    },
    {
     "ename": "KeyboardInterrupt",
     "evalue": "",
     "output_type": "error",
     "traceback": [
      "\u001b[1;31m---------------------------------------------------------------------------\u001b[0m",
      "\u001b[1;31mKeyboardInterrupt\u001b[0m                         Traceback (most recent call last)",
      "Cell \u001b[1;32mIn[2], line 17\u001b[0m\n\u001b[0;32m     14\u001b[0m \u001b[38;5;66;03m# Drag the mouse to the ending position (adjust coordinates as needed)\u001b[39;00m\n\u001b[0;32m     15\u001b[0m pyautogui\u001b[38;5;241m.\u001b[39mdragTo(\u001b[38;5;241m1610\u001b[39m,\u001b[38;5;241m510\u001b[39m, duration\u001b[38;5;241m=\u001b[39m\u001b[38;5;241m1\u001b[39m)  \u001b[38;5;66;03m# Adjust duration for desired dragging speed\u001b[39;00m\n\u001b[1;32m---> 17\u001b[0m \u001b[43mtime\u001b[49m\u001b[38;5;241;43m.\u001b[39;49m\u001b[43msleep\u001b[49m\u001b[43m(\u001b[49m\u001b[38;5;241;43m3\u001b[39;49m\u001b[43m)\u001b[49m; \u001b[38;5;66;03m#so that image can fully render\u001b[39;00m\n\u001b[0;32m     19\u001b[0m r\u001b[38;5;241m=\u001b[39m(\u001b[38;5;241m20\u001b[39m,\u001b[38;5;241m60\u001b[39m,\u001b[38;5;241m1820\u001b[39m,\u001b[38;5;241m970\u001b[39m); \u001b[38;5;66;03m#coordinates of the screenshot starting point and resolution\u001b[39;00m\n\u001b[0;32m     21\u001b[0m \u001b[38;5;66;03m#taking and saving screenshot\u001b[39;00m\n",
      "\u001b[1;31mKeyboardInterrupt\u001b[0m: "
     ]
    }
   ],
   "source": [
    "#adjust coordinates as needed\n",
    "import pyautogui\n",
    "import time\n",
    "import cv2\n",
    "import numpy as np\n",
    "from PIL import ImageGrab\n",
    "from split_image import split_image\n",
    "\n",
    "time.sleep(3);\n",
    "for i in range(0,5,1):\n",
    "    # Move the mouse to the starting position (adjust coordinates as needed)\n",
    "    pyautogui.moveTo(100, 510)\n",
    "\n",
    "    # Drag the mouse to the ending position (adjust coordinates as needed)\n",
    "    pyautogui.dragTo(1610,510, duration=1)  # Adjust duration for desired dragging speed\n",
    "\n",
    "    time.sleep(3); #so that image can fully render\n",
    "\n",
    "    r=(20,60,1820,970); #coordinates of the screenshot starting point and resolution\n",
    "    \n",
    "    #taking and saving screenshot\n",
    "    screenshot = ImageGrab.grab(r)\n",
    "    screenshot.save(str(i)+'.png')\n",
    "    \n",
    "    #sharpening the image using gaussian filter\n",
    "    # im=cv2.imread(str(i)+'.png')\n",
    "    # gaussian_blur=cv2.GaussianBlur(im,(7,7),2);\n",
    "    # im=cv2.addWeighted(im,2.5,gaussian_blur,-1.5,0.1);\n",
    "    # cv2.imwrite(str(i)+'.png',im)\n",
    "    \n",
    "    #splitting the image into 8 equal parts(2 rows 4 col)\n",
    "    split_image(str(i)+'.png', 2, 4,False,False)"
   ]
  }
 ],
 "metadata": {
  "kernelspec": {
   "display_name": "base",
   "language": "python",
   "name": "python3"
  },
  "language_info": {
   "codemirror_mode": {
    "name": "ipython",
    "version": 3
   },
   "file_extension": ".py",
   "mimetype": "text/x-python",
   "name": "python",
   "nbconvert_exporter": "python",
   "pygments_lexer": "ipython3",
   "version": "3.10.13"
  }
 },
 "nbformat": 4,
 "nbformat_minor": 2
}
